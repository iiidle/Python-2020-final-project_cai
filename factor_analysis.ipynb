{
 "cells": [
  {
   "cell_type": "code",
   "execution_count": 1,
   "metadata": {},
   "outputs": [],
   "source": [
    "import pandas as pd\n",
    "import numpy as np\n",
    "import matplotlib.pyplot as plt"
   ]
  },
  {
   "cell_type": "code",
   "execution_count": 2,
   "metadata": {},
   "outputs": [],
   "source": [
    "import numpy as np\n",
    "import pandas as pd\n",
    "from sklearn import preprocessing\n",
    "from sklearn.decomposition import PCA\n",
    "from sklearn.preprocessing import MinMaxScaler,StandardScaler\n",
    "import math as math\n",
    "from numpy import *\n",
    "import numpy.linalg as nlg\n",
    "from factor_analyzer import factor_analyzer,Rotator\n",
    "from factor_analyzer import FactorAnalyzer, calculate_kmo, calculate_bartlett_sphericity  "
   ]
  },
  {
   "cell_type": "code",
   "execution_count": 3,
   "metadata": {},
   "outputs": [],
   "source": [
    "df_sum=pd.read_excel('dataall_clean.xlsx')"
   ]
  },
  {
   "cell_type": "code",
   "execution_count": 4,
   "metadata": {},
   "outputs": [],
   "source": [
    "from scipy.stats import kstest"
   ]
  },
  {
   "cell_type": "code",
   "execution_count": 5,
   "metadata": {},
   "outputs": [],
   "source": [
    "factor_data=df_sum.iloc[:,6:].dropna()"
   ]
  },
  {
   "cell_type": "code",
   "execution_count": 6,
   "metadata": {},
   "outputs": [
    {
     "data": {
      "text/html": [
       "<div>\n",
       "<style scoped>\n",
       "    .dataframe tbody tr th:only-of-type {\n",
       "        vertical-align: middle;\n",
       "    }\n",
       "\n",
       "    .dataframe tbody tr th {\n",
       "        vertical-align: top;\n",
       "    }\n",
       "\n",
       "    .dataframe thead th {\n",
       "        text-align: right;\n",
       "    }\n",
       "</style>\n",
       "<table border=\"1\" class=\"dataframe\">\n",
       "  <thead>\n",
       "    <tr style=\"text-align: right;\">\n",
       "      <th></th>\n",
       "      <th>density</th>\n",
       "      <th>highedu</th>\n",
       "      <th>birth</th>\n",
       "      <th>House_Price</th>\n",
       "      <th>tertiary_gdp</th>\n",
       "      <th>raising_rate</th>\n",
       "      <th>sex_ratio</th>\n",
       "      <th>consume_increase</th>\n",
       "      <th>illteracy_rate</th>\n",
       "      <th>family_avg_num</th>\n",
       "    </tr>\n",
       "  </thead>\n",
       "  <tbody>\n",
       "    <tr>\n",
       "      <th>0</th>\n",
       "      <td>7.034852</td>\n",
       "      <td>0.526800</td>\n",
       "      <td>0.824</td>\n",
       "      <td>10.529966</td>\n",
       "      <td>10.222234</td>\n",
       "      <td>1.337</td>\n",
       "      <td>0.9875</td>\n",
       "      <td>1.005679</td>\n",
       "      <td>1.693737</td>\n",
       "      <td>2.477914</td>\n",
       "    </tr>\n",
       "    <tr>\n",
       "      <th>1</th>\n",
       "      <td>8.520449</td>\n",
       "      <td>0.415000</td>\n",
       "      <td>0.667</td>\n",
       "      <td>9.675599</td>\n",
       "      <td>9.030295</td>\n",
       "      <td>1.303</td>\n",
       "      <td>1.1572</td>\n",
       "      <td>0.998424</td>\n",
       "      <td>1.385017</td>\n",
       "      <td>2.490174</td>\n",
       "    </tr>\n",
       "    <tr>\n",
       "      <th>2</th>\n",
       "      <td>8.248711</td>\n",
       "      <td>0.351700</td>\n",
       "      <td>0.720</td>\n",
       "      <td>10.274399</td>\n",
       "      <td>10.148246</td>\n",
       "      <td>1.308</td>\n",
       "      <td>1.0661</td>\n",
       "      <td>0.999118</td>\n",
       "      <td>2.376967</td>\n",
       "      <td>2.379654</td>\n",
       "    </tr>\n",
       "    <tr>\n",
       "      <th>3</th>\n",
       "      <td>7.614028</td>\n",
       "      <td>0.308100</td>\n",
       "      <td>1.102</td>\n",
       "      <td>9.010666</td>\n",
       "      <td>9.338548</td>\n",
       "      <td>2.468</td>\n",
       "      <td>1.0035</td>\n",
       "      <td>1.010281</td>\n",
       "      <td>3.827026</td>\n",
       "      <td>2.869315</td>\n",
       "    </tr>\n",
       "    <tr>\n",
       "      <th>4</th>\n",
       "      <td>8.074137</td>\n",
       "      <td>0.245700</td>\n",
       "      <td>1.126</td>\n",
       "      <td>8.931515</td>\n",
       "      <td>9.695969</td>\n",
       "      <td>2.685</td>\n",
       "      <td>1.0167</td>\n",
       "      <td>1.007075</td>\n",
       "      <td>3.951175</td>\n",
       "      <td>3.103387</td>\n",
       "    </tr>\n",
       "    <tr>\n",
       "      <th>...</th>\n",
       "      <td>...</td>\n",
       "      <td>...</td>\n",
       "      <td>...</td>\n",
       "      <td>...</td>\n",
       "      <td>...</td>\n",
       "      <td>...</td>\n",
       "      <td>...</td>\n",
       "      <td>...</td>\n",
       "      <td>...</td>\n",
       "      <td>...</td>\n",
       "    </tr>\n",
       "    <tr>\n",
       "      <th>336</th>\n",
       "      <td>8.610319</td>\n",
       "      <td>0.287991</td>\n",
       "      <td>1.029</td>\n",
       "      <td>7.944847</td>\n",
       "      <td>7.900911</td>\n",
       "      <td>2.224</td>\n",
       "      <td>1.0279</td>\n",
       "      <td>1.011028</td>\n",
       "      <td>8.188123</td>\n",
       "      <td>3.168425</td>\n",
       "    </tr>\n",
       "    <tr>\n",
       "      <th>337</th>\n",
       "      <td>8.243283</td>\n",
       "      <td>0.168684</td>\n",
       "      <td>1.322</td>\n",
       "      <td>7.523481</td>\n",
       "      <td>7.118186</td>\n",
       "      <td>2.899</td>\n",
       "      <td>1.0239</td>\n",
       "      <td>1.028508</td>\n",
       "      <td>17.776008</td>\n",
       "      <td>3.596755</td>\n",
       "    </tr>\n",
       "    <tr>\n",
       "      <th>338</th>\n",
       "      <td>7.626083</td>\n",
       "      <td>0.103324</td>\n",
       "      <td>1.449</td>\n",
       "      <td>7.776535</td>\n",
       "      <td>5.874734</td>\n",
       "      <td>3.044</td>\n",
       "      <td>1.0161</td>\n",
       "      <td>1.032009</td>\n",
       "      <td>16.687931</td>\n",
       "      <td>3.635897</td>\n",
       "    </tr>\n",
       "    <tr>\n",
       "      <th>339</th>\n",
       "      <td>6.783325</td>\n",
       "      <td>0.161025</td>\n",
       "      <td>1.431</td>\n",
       "      <td>7.703008</td>\n",
       "      <td>6.163315</td>\n",
       "      <td>3.239</td>\n",
       "      <td>1.0371</td>\n",
       "      <td>1.028336</td>\n",
       "      <td>10.077338</td>\n",
       "      <td>3.563589</td>\n",
       "    </tr>\n",
       "    <tr>\n",
       "      <th>340</th>\n",
       "      <td>8.514590</td>\n",
       "      <td>0.141373</td>\n",
       "      <td>1.605</td>\n",
       "      <td>7.649693</td>\n",
       "      <td>7.259384</td>\n",
       "      <td>2.912</td>\n",
       "      <td>1.0314</td>\n",
       "      <td>1.024369</td>\n",
       "      <td>4.645282</td>\n",
       "      <td>3.518656</td>\n",
       "    </tr>\n",
       "  </tbody>\n",
       "</table>\n",
       "<p>310 rows × 10 columns</p>\n",
       "</div>"
      ],
      "text/plain": [
       "      density   highedu  birth  House_Price  tertiary_gdp  raising_rate  \\\n",
       "0    7.034852  0.526800  0.824    10.529966     10.222234         1.337   \n",
       "1    8.520449  0.415000  0.667     9.675599      9.030295         1.303   \n",
       "2    8.248711  0.351700  0.720    10.274399     10.148246         1.308   \n",
       "3    7.614028  0.308100  1.102     9.010666      9.338548         2.468   \n",
       "4    8.074137  0.245700  1.126     8.931515      9.695969         2.685   \n",
       "..        ...       ...    ...          ...           ...           ...   \n",
       "336  8.610319  0.287991  1.029     7.944847      7.900911         2.224   \n",
       "337  8.243283  0.168684  1.322     7.523481      7.118186         2.899   \n",
       "338  7.626083  0.103324  1.449     7.776535      5.874734         3.044   \n",
       "339  6.783325  0.161025  1.431     7.703008      6.163315         3.239   \n",
       "340  8.514590  0.141373  1.605     7.649693      7.259384         2.912   \n",
       "\n",
       "     sex_ratio  consume_increase  illteracy_rate  family_avg_num  \n",
       "0       0.9875          1.005679        1.693737        2.477914  \n",
       "1       1.1572          0.998424        1.385017        2.490174  \n",
       "2       1.0661          0.999118        2.376967        2.379654  \n",
       "3       1.0035          1.010281        3.827026        2.869315  \n",
       "4       1.0167          1.007075        3.951175        3.103387  \n",
       "..         ...               ...             ...             ...  \n",
       "336     1.0279          1.011028        8.188123        3.168425  \n",
       "337     1.0239          1.028508       17.776008        3.596755  \n",
       "338     1.0161          1.032009       16.687931        3.635897  \n",
       "339     1.0371          1.028336       10.077338        3.563589  \n",
       "340     1.0314          1.024369        4.645282        3.518656  \n",
       "\n",
       "[310 rows x 10 columns]"
      ]
     },
     "execution_count": 6,
     "metadata": {},
     "output_type": "execute_result"
    }
   ],
   "source": [
    "factor_data"
   ]
  },
  {
   "cell_type": "code",
   "execution_count": 7,
   "metadata": {},
   "outputs": [
    {
     "name": "stderr",
     "output_type": "stream",
     "text": [
      "C:\\Users\\CAI\\anaconda3\\lib\\site-packages\\factor_analyzer\\utils.py:248: UserWarning: The inverse of the variance-covariance matrix was calculated using the Moore-Penrose generalized matrix inversion, due to its determinant being at or very close to zero.\n",
      "  warnings.warn('The inverse of the variance-covariance matrix '\n"
     ]
    }
   ],
   "source": [
    "kmo = calculate_kmo(factor_data) "
   ]
  },
  {
   "cell_type": "code",
   "execution_count": 8,
   "metadata": {},
   "outputs": [
    {
     "data": {
      "text/plain": [
       "0.7557093717652107"
      ]
     },
     "execution_count": 8,
     "metadata": {},
     "output_type": "execute_result"
    }
   ],
   "source": [
    "kmo[1]"
   ]
  },
  {
   "cell_type": "code",
   "execution_count": 9,
   "metadata": {},
   "outputs": [
    {
     "data": {
      "text/plain": [
       "(array([0.34497424, 0.81492355, 0.76500508, 0.63271561, 0.80821714,\n",
       "        0.79747257, 0.32655269, 0.61673703, 0.72284202, 0.84314107]),\n",
       " 0.7557093717652107)"
      ]
     },
     "execution_count": 9,
     "metadata": {},
     "output_type": "execute_result"
    }
   ],
   "source": [
    "kmo"
   ]
  },
  {
   "cell_type": "code",
   "execution_count": 10,
   "metadata": {},
   "outputs": [],
   "source": [
    "bartlett = calculate_bartlett_sphericity(factor_data)"
   ]
  },
  {
   "cell_type": "code",
   "execution_count": 11,
   "metadata": {},
   "outputs": [
    {
     "data": {
      "text/plain": [
       "(1730.8159343801872, 0.0)"
      ]
     },
     "execution_count": 11,
     "metadata": {},
     "output_type": "execute_result"
    }
   ],
   "source": [
    "bartlett"
   ]
  },
  {
   "cell_type": "code",
   "execution_count": 12,
   "metadata": {},
   "outputs": [],
   "source": [
    "fa = FactorAnalyzer(11, rotation=None)\n",
    "fa.fit(factor_data)\n",
    "\n",
    "#特征根和特征向量\n",
    "ev, v = fa.get_eigenvalues()"
   ]
  },
  {
   "cell_type": "code",
   "execution_count": 13,
   "metadata": {},
   "outputs": [
    {
     "data": {
      "image/png": "[encoded data removed]",
      "text/plain": [
       "<Figure size 432x288 with 1 Axes>"
      ]
     },
     "metadata": {
      "needs_background": "light"
     },
     "output_type": "display_data"
    }
   ],
   "source": [
    "plt.scatter(range(1,factor_data.shape[1]+1),ev)\n",
    "plt.plot(range(1,factor_data.shape[1]+1),ev)\n",
    "plt.title('Scree Plot')\n",
    "plt.xlabel('Factors')\n",
    "plt.ylabel('Eigenvalue')\n",
    "plt.grid()\n",
    "plt.savefig('Scree Plot.png',dpi=300)\n",
    "plt.show()"
   ]
  },
  {
   "cell_type": "code",
   "execution_count": 14,
   "metadata": {},
   "outputs": [
    {
     "data": {
      "text/plain": [
       "array([[ 0.02002048,  0.20701642],\n",
       "       [-0.74555572,  0.04678519],\n",
       "       [ 0.801834  ,  0.28037997],\n",
       "       [-0.59369554,  0.33716378],\n",
       "       [-0.64287095,  0.43500129],\n",
       "       [ 0.93628806,  0.25109209],\n",
       "       [ 0.05440533,  0.4666221 ],\n",
       "       [-0.06148889,  0.12306765],\n",
       "       [ 0.60585236, -0.35701365],\n",
       "       [ 0.90081713, -0.09423187]])"
      ]
     },
     "execution_count": 14,
     "metadata": {},
     "output_type": "execute_result"
    }
   ],
   "source": [
    "fa = FactorAnalyzer(2, rotation=\"varimax\")\n",
    "fa.fit(factor_data)\n",
    "fa.loadings_"
   ]
  },
  {
   "cell_type": "code",
   "execution_count": 15,
   "metadata": {},
   "outputs": [
    {
     "data": {
      "text/plain": [
       "(array([4.0268541 , 0.85883058]),\n",
       " array([0.40268541, 0.08588306]),\n",
       " array([0.40268541, 0.48856847]))"
      ]
     },
     "execution_count": 15,
     "metadata": {},
     "output_type": "execute_result"
    }
   ],
   "source": [
    "fa.get_factor_variance()"
   ]
  },
  {
   "cell_type": "code",
   "execution_count": 16,
   "metadata": {},
   "outputs": [
    {
     "data": {
      "text/plain": [
       "array([0.04325662, 0.55804218, 0.72155069, 0.46615381, 0.60250919,\n",
       "       0.93968256, 0.22069612, 0.01892653, 0.49451583, 0.82035115])"
      ]
     },
     "execution_count": 16,
     "metadata": {},
     "output_type": "execute_result"
    }
   ],
   "source": [
    "fa.get_communalities()"
   ]
  },
  {
   "cell_type": "code",
   "execution_count": 17,
   "metadata": {},
   "outputs": [
    {
     "data": {
      "text/plain": [
       "Index(['density', 'highedu', 'birth', 'House_Price', 'tertiary_gdp',\n",
       "       'raising_rate', 'sex_ratio', 'consume_increase', 'illteracy_rate',\n",
       "       'family_avg_num'],\n",
       "      dtype='object')"
      ]
     },
     "execution_count": 17,
     "metadata": {},
     "output_type": "execute_result"
    }
   ],
   "source": [
    "factor_data.columns"
   ]
  },
  {
   "cell_type": "code",
   "execution_count": 18,
   "metadata": {},
   "outputs": [],
   "source": [
    "fa_l=pd.DataFrame(fa.loadings_)"
   ]
  },
  {
   "cell_type": "code",
   "execution_count": 19,
   "metadata": {},
   "outputs": [],
   "source": [
    "fa_l.columns=['Factor 1','Factor 2']"
   ]
  },
  {
   "cell_type": "code",
   "execution_count": 20,
   "metadata": {},
   "outputs": [],
   "source": [
    "fa_l.index=factor_data.columns"
   ]
  },
  {
   "cell_type": "code",
   "execution_count": 21,
   "metadata": {},
   "outputs": [],
   "source": [
    "fa_l['communality']=fa.get_communalities()"
   ]
  },
  {
   "cell_type": "code",
   "execution_count": 22,
   "metadata": {},
   "outputs": [
    {
     "data": {
      "text/html": [
       "<div>\n",
       "<style scoped>\n",
       "    .dataframe tbody tr th:only-of-type {\n",
       "        vertical-align: middle;\n",
       "    }\n",
       "\n",
       "    .dataframe tbody tr th {\n",
       "        vertical-align: top;\n",
       "    }\n",
       "\n",
       "    .dataframe thead th {\n",
       "        text-align: right;\n",
       "    }\n",
       "</style>\n",
       "<table border=\"1\" class=\"dataframe\">\n",
       "  <thead>\n",
       "    <tr style=\"text-align: right;\">\n",
       "      <th></th>\n",
       "      <th>Factor 1</th>\n",
       "      <th>Factor 2</th>\n",
       "      <th>communality</th>\n",
       "    </tr>\n",
       "  </thead>\n",
       "  <tbody>\n",
       "    <tr>\n",
       "      <th>density</th>\n",
       "      <td>0.020020</td>\n",
       "      <td>0.207016</td>\n",
       "      <td>0.043257</td>\n",
       "    </tr>\n",
       "    <tr>\n",
       "      <th>highedu</th>\n",
       "      <td>-0.745556</td>\n",
       "      <td>0.046785</td>\n",
       "      <td>0.558042</td>\n",
       "    </tr>\n",
       "    <tr>\n",
       "      <th>birth</th>\n",
       "      <td>0.801834</td>\n",
       "      <td>0.280380</td>\n",
       "      <td>0.721551</td>\n",
       "    </tr>\n",
       "    <tr>\n",
       "      <th>House_Price</th>\n",
       "      <td>-0.593696</td>\n",
       "      <td>0.337164</td>\n",
       "      <td>0.466154</td>\n",
       "    </tr>\n",
       "    <tr>\n",
       "      <th>tertiary_gdp</th>\n",
       "      <td>-0.642871</td>\n",
       "      <td>0.435001</td>\n",
       "      <td>0.602509</td>\n",
       "    </tr>\n",
       "    <tr>\n",
       "      <th>raising_rate</th>\n",
       "      <td>0.936288</td>\n",
       "      <td>0.251092</td>\n",
       "      <td>0.939683</td>\n",
       "    </tr>\n",
       "    <tr>\n",
       "      <th>sex_ratio</th>\n",
       "      <td>0.054405</td>\n",
       "      <td>0.466622</td>\n",
       "      <td>0.220696</td>\n",
       "    </tr>\n",
       "    <tr>\n",
       "      <th>consume_increase</th>\n",
       "      <td>-0.061489</td>\n",
       "      <td>0.123068</td>\n",
       "      <td>0.018927</td>\n",
       "    </tr>\n",
       "    <tr>\n",
       "      <th>illteracy_rate</th>\n",
       "      <td>0.605852</td>\n",
       "      <td>-0.357014</td>\n",
       "      <td>0.494516</td>\n",
       "    </tr>\n",
       "    <tr>\n",
       "      <th>family_avg_num</th>\n",
       "      <td>0.900817</td>\n",
       "      <td>-0.094232</td>\n",
       "      <td>0.820351</td>\n",
       "    </tr>\n",
       "  </tbody>\n",
       "</table>\n",
       "</div>"
      ],
      "text/plain": [
       "                  Factor 1  Factor 2  communality\n",
       "density           0.020020  0.207016     0.043257\n",
       "highedu          -0.745556  0.046785     0.558042\n",
       "birth             0.801834  0.280380     0.721551\n",
       "House_Price      -0.593696  0.337164     0.466154\n",
       "tertiary_gdp     -0.642871  0.435001     0.602509\n",
       "raising_rate      0.936288  0.251092     0.939683\n",
       "sex_ratio         0.054405  0.466622     0.220696\n",
       "consume_increase -0.061489  0.123068     0.018927\n",
       "illteracy_rate    0.605852 -0.357014     0.494516\n",
       "family_avg_num    0.900817 -0.094232     0.820351"
      ]
     },
     "execution_count": 22,
     "metadata": {},
     "output_type": "execute_result"
    }
   ],
   "source": [
    "fa_l"
   ]
  },
  {
   "cell_type": "code",
   "execution_count": 23,
   "metadata": {},
   "outputs": [],
   "source": [
    "fa_l.to_excel('factor1.xlsx')"
   ]
  },
  {
   "cell_type": "code",
   "execution_count": 24,
   "metadata": {},
   "outputs": [],
   "source": [
    "factor2_data=factor_data.drop(['density','sex_ratio','consume_increase'],axis=1)"
   ]
  },
  {
   "cell_type": "code",
   "execution_count": 25,
   "metadata": {},
   "outputs": [
    {
     "data": {
      "text/html": [
       "<div>\n",
       "<style scoped>\n",
       "    .dataframe tbody tr th:only-of-type {\n",
       "        vertical-align: middle;\n",
       "    }\n",
       "\n",
       "    .dataframe tbody tr th {\n",
       "        vertical-align: top;\n",
       "    }\n",
       "\n",
       "    .dataframe thead th {\n",
       "        text-align: right;\n",
       "    }\n",
       "</style>\n",
       "<table border=\"1\" class=\"dataframe\">\n",
       "  <thead>\n",
       "    <tr style=\"text-align: right;\">\n",
       "      <th></th>\n",
       "      <th>highedu</th>\n",
       "      <th>birth</th>\n",
       "      <th>House_Price</th>\n",
       "      <th>tertiary_gdp</th>\n",
       "      <th>raising_rate</th>\n",
       "      <th>illteracy_rate</th>\n",
       "      <th>family_avg_num</th>\n",
       "    </tr>\n",
       "  </thead>\n",
       "  <tbody>\n",
       "    <tr>\n",
       "      <th>0</th>\n",
       "      <td>0.526800</td>\n",
       "      <td>0.824</td>\n",
       "      <td>10.529966</td>\n",
       "      <td>10.222234</td>\n",
       "      <td>1.337</td>\n",
       "      <td>1.693737</td>\n",
       "      <td>2.477914</td>\n",
       "    </tr>\n",
       "    <tr>\n",
       "      <th>1</th>\n",
       "      <td>0.415000</td>\n",
       "      <td>0.667</td>\n",
       "      <td>9.675599</td>\n",
       "      <td>9.030295</td>\n",
       "      <td>1.303</td>\n",
       "      <td>1.385017</td>\n",
       "      <td>2.490174</td>\n",
       "    </tr>\n",
       "    <tr>\n",
       "      <th>2</th>\n",
       "      <td>0.351700</td>\n",
       "      <td>0.720</td>\n",
       "      <td>10.274399</td>\n",
       "      <td>10.148246</td>\n",
       "      <td>1.308</td>\n",
       "      <td>2.376967</td>\n",
       "      <td>2.379654</td>\n",
       "    </tr>\n",
       "    <tr>\n",
       "      <th>3</th>\n",
       "      <td>0.308100</td>\n",
       "      <td>1.102</td>\n",
       "      <td>9.010666</td>\n",
       "      <td>9.338548</td>\n",
       "      <td>2.468</td>\n",
       "      <td>3.827026</td>\n",
       "      <td>2.869315</td>\n",
       "    </tr>\n",
       "    <tr>\n",
       "      <th>4</th>\n",
       "      <td>0.245700</td>\n",
       "      <td>1.126</td>\n",
       "      <td>8.931515</td>\n",
       "      <td>9.695969</td>\n",
       "      <td>2.685</td>\n",
       "      <td>3.951175</td>\n",
       "      <td>3.103387</td>\n",
       "    </tr>\n",
       "    <tr>\n",
       "      <th>...</th>\n",
       "      <td>...</td>\n",
       "      <td>...</td>\n",
       "      <td>...</td>\n",
       "      <td>...</td>\n",
       "      <td>...</td>\n",
       "      <td>...</td>\n",
       "      <td>...</td>\n",
       "    </tr>\n",
       "    <tr>\n",
       "      <th>336</th>\n",
       "      <td>0.287991</td>\n",
       "      <td>1.029</td>\n",
       "      <td>7.944847</td>\n",
       "      <td>7.900911</td>\n",
       "      <td>2.224</td>\n",
       "      <td>8.188123</td>\n",
       "      <td>3.168425</td>\n",
       "    </tr>\n",
       "    <tr>\n",
       "      <th>337</th>\n",
       "      <td>0.168684</td>\n",
       "      <td>1.322</td>\n",
       "      <td>7.523481</td>\n",
       "      <td>7.118186</td>\n",
       "      <td>2.899</td>\n",
       "      <td>17.776008</td>\n",
       "      <td>3.596755</td>\n",
       "    </tr>\n",
       "    <tr>\n",
       "      <th>338</th>\n",
       "      <td>0.103324</td>\n",
       "      <td>1.449</td>\n",
       "      <td>7.776535</td>\n",
       "      <td>5.874734</td>\n",
       "      <td>3.044</td>\n",
       "      <td>16.687931</td>\n",
       "      <td>3.635897</td>\n",
       "    </tr>\n",
       "    <tr>\n",
       "      <th>339</th>\n",
       "      <td>0.161025</td>\n",
       "      <td>1.431</td>\n",
       "      <td>7.703008</td>\n",
       "      <td>6.163315</td>\n",
       "      <td>3.239</td>\n",
       "      <td>10.077338</td>\n",
       "      <td>3.563589</td>\n",
       "    </tr>\n",
       "    <tr>\n",
       "      <th>340</th>\n",
       "      <td>0.141373</td>\n",
       "      <td>1.605</td>\n",
       "      <td>7.649693</td>\n",
       "      <td>7.259384</td>\n",
       "      <td>2.912</td>\n",
       "      <td>4.645282</td>\n",
       "      <td>3.518656</td>\n",
       "    </tr>\n",
       "  </tbody>\n",
       "</table>\n",
       "<p>310 rows × 7 columns</p>\n",
       "</div>"
      ],
      "text/plain": [
       "      highedu  birth  House_Price  tertiary_gdp  raising_rate  illteracy_rate  \\\n",
       "0    0.526800  0.824    10.529966     10.222234         1.337        1.693737   \n",
       "1    0.415000  0.667     9.675599      9.030295         1.303        1.385017   \n",
       "2    0.351700  0.720    10.274399     10.148246         1.308        2.376967   \n",
       "3    0.308100  1.102     9.010666      9.338548         2.468        3.827026   \n",
       "4    0.245700  1.126     8.931515      9.695969         2.685        3.951175   \n",
       "..        ...    ...          ...           ...           ...             ...   \n",
       "336  0.287991  1.029     7.944847      7.900911         2.224        8.188123   \n",
       "337  0.168684  1.322     7.523481      7.118186         2.899       17.776008   \n",
       "338  0.103324  1.449     7.776535      5.874734         3.044       16.687931   \n",
       "339  0.161025  1.431     7.703008      6.163315         3.239       10.077338   \n",
       "340  0.141373  1.605     7.649693      7.259384         2.912        4.645282   \n",
       "\n",
       "     family_avg_num  \n",
       "0          2.477914  \n",
       "1          2.490174  \n",
       "2          2.379654  \n",
       "3          2.869315  \n",
       "4          3.103387  \n",
       "..              ...  \n",
       "336        3.168425  \n",
       "337        3.596755  \n",
       "338        3.635897  \n",
       "339        3.563589  \n",
       "340        3.518656  \n",
       "\n",
       "[310 rows x 7 columns]"
      ]
     },
     "execution_count": 25,
     "metadata": {},
     "output_type": "execute_result"
    }
   ],
   "source": [
    "factor2_data"
   ]
  },
  {
   "cell_type": "code",
   "execution_count": 26,
   "metadata": {},
   "outputs": [
    {
     "data": {
      "text/plain": [
       "(array([0.84555798, 0.76505436, 0.69230627, 0.82732363, 0.79350274,\n",
       "        0.80720166, 0.86709884]),\n",
       " 0.802375125641147)"
      ]
     },
     "execution_count": 26,
     "metadata": {},
     "output_type": "execute_result"
    }
   ],
   "source": [
    "kmo = calculate_kmo(factor2_data)\n",
    "kmo"
   ]
  },
  {
   "cell_type": "code",
   "execution_count": 27,
   "metadata": {},
   "outputs": [
    {
     "data": {
      "text/plain": [
       "(1588.5165856442065, 0.0)"
      ]
     },
     "execution_count": 27,
     "metadata": {},
     "output_type": "execute_result"
    }
   ],
   "source": [
    "bartlett = calculate_bartlett_sphericity(factor2_data)\n",
    "bartlett"
   ]
  },
  {
   "cell_type": "code",
   "execution_count": 28,
   "metadata": {},
   "outputs": [
    {
     "data": {
      "image/png": "[encoded data removed]",
      "text/plain": [
       "<Figure size 432x288 with 1 Axes>"
      ]
     },
     "metadata": {
      "needs_background": "light"
     },
     "output_type": "display_data"
    }
   ],
   "source": [
    "fa = FactorAnalyzer(7, rotation=None)\n",
    "fa.fit(factor2_data)\n",
    "\n",
    "#特征根和特征向量\n",
    "ev, v = fa.get_eigenvalues()\n",
    "\n",
    "plt.scatter(range(1,factor2_data.shape[1]+1),ev)\n",
    "plt.plot(range(1,factor2_data.shape[1]+1),ev)\n",
    "plt.title('Scree Plot Ⅱ')\n",
    "plt.xlabel('Factors')\n",
    "plt.ylabel('Eigenvalue')\n",
    "plt.grid()\n",
    "plt.savefig('Scree Plot2.png',dpi=300)\n",
    "plt.show()"
   ]
  },
  {
   "cell_type": "code",
   "execution_count": 29,
   "metadata": {},
   "outputs": [
    {
     "data": {
      "text/plain": [
       "array([[-0.53253942,  0.51941217],\n",
       "       [ 0.85197898, -0.23154864],\n",
       "       [-0.26898804,  0.62087722],\n",
       "       [-0.18825958,  0.82134861],\n",
       "       [ 0.90217608, -0.36385269],\n",
       "       [ 0.33320693, -0.56416366],\n",
       "       [ 0.63725727, -0.64125769]])"
      ]
     },
     "execution_count": 29,
     "metadata": {},
     "output_type": "execute_result"
    }
   ],
   "source": [
    "fa = FactorAnalyzer(2, rotation=\"varimax\")\n",
    "fa.fit(factor2_data)\n",
    "fa.loadings_"
   ]
  },
  {
   "cell_type": "code",
   "execution_count": 30,
   "metadata": {},
   "outputs": [
    {
     "data": {
      "text/plain": [
       "array([0.55338723, 0.77948296, 0.45784308, 0.7100552 , 0.94631046,\n",
       "       0.4293075 , 0.81730825])"
      ]
     },
     "execution_count": 30,
     "metadata": {},
     "output_type": "execute_result"
    }
   ],
   "source": [
    "fa.get_communalities()"
   ]
  },
  {
   "cell_type": "code",
   "execution_count": 31,
   "metadata": {},
   "outputs": [
    {
     "data": {
      "text/plain": [
       "(array([2.44830803, 2.24538666]),\n",
       " array([0.34975829, 0.32076952]),\n",
       " array([0.34975829, 0.67052781]))"
      ]
     },
     "execution_count": 31,
     "metadata": {},
     "output_type": "execute_result"
    }
   ],
   "source": [
    "fa.get_factor_variance()"
   ]
  },
  {
   "cell_type": "code",
   "execution_count": 32,
   "metadata": {},
   "outputs": [
    {
     "data": {
      "text/html": [
       "<div>\n",
       "<style scoped>\n",
       "    .dataframe tbody tr th:only-of-type {\n",
       "        vertical-align: middle;\n",
       "    }\n",
       "\n",
       "    .dataframe tbody tr th {\n",
       "        vertical-align: top;\n",
       "    }\n",
       "\n",
       "    .dataframe thead th {\n",
       "        text-align: right;\n",
       "    }\n",
       "</style>\n",
       "<table border=\"1\" class=\"dataframe\">\n",
       "  <thead>\n",
       "    <tr style=\"text-align: right;\">\n",
       "      <th></th>\n",
       "      <th>Factor 1</th>\n",
       "      <th>Factor 2</th>\n",
       "      <th>Communality</th>\n",
       "    </tr>\n",
       "  </thead>\n",
       "  <tbody>\n",
       "    <tr>\n",
       "      <th>highedu</th>\n",
       "      <td>-0.532539</td>\n",
       "      <td>0.519412</td>\n",
       "      <td>0.553387</td>\n",
       "    </tr>\n",
       "    <tr>\n",
       "      <th>birth</th>\n",
       "      <td>0.851979</td>\n",
       "      <td>-0.231549</td>\n",
       "      <td>0.779483</td>\n",
       "    </tr>\n",
       "    <tr>\n",
       "      <th>House_Price</th>\n",
       "      <td>-0.268988</td>\n",
       "      <td>0.620877</td>\n",
       "      <td>0.457843</td>\n",
       "    </tr>\n",
       "    <tr>\n",
       "      <th>tertiary_gdp</th>\n",
       "      <td>-0.188260</td>\n",
       "      <td>0.821349</td>\n",
       "      <td>0.710055</td>\n",
       "    </tr>\n",
       "    <tr>\n",
       "      <th>raising_rate</th>\n",
       "      <td>0.902176</td>\n",
       "      <td>-0.363853</td>\n",
       "      <td>0.946310</td>\n",
       "    </tr>\n",
       "    <tr>\n",
       "      <th>illteracy_rate</th>\n",
       "      <td>0.333207</td>\n",
       "      <td>-0.564164</td>\n",
       "      <td>0.429307</td>\n",
       "    </tr>\n",
       "    <tr>\n",
       "      <th>family_avg_num</th>\n",
       "      <td>0.637257</td>\n",
       "      <td>-0.641258</td>\n",
       "      <td>0.817308</td>\n",
       "    </tr>\n",
       "  </tbody>\n",
       "</table>\n",
       "</div>"
      ],
      "text/plain": [
       "                Factor 1  Factor 2  Communality\n",
       "highedu        -0.532539  0.519412     0.553387\n",
       "birth           0.851979 -0.231549     0.779483\n",
       "House_Price    -0.268988  0.620877     0.457843\n",
       "tertiary_gdp   -0.188260  0.821349     0.710055\n",
       "raising_rate    0.902176 -0.363853     0.946310\n",
       "illteracy_rate  0.333207 -0.564164     0.429307\n",
       "family_avg_num  0.637257 -0.641258     0.817308"
      ]
     },
     "execution_count": 32,
     "metadata": {},
     "output_type": "execute_result"
    }
   ],
   "source": [
    "fa_l=pd.DataFrame(fa.loadings_)\n",
    "fa_l.columns=['Factor 1','Factor 2']\n",
    "fa_l.index=factor2_data.columns\n",
    "fa_l['Communality']=fa.get_communalities()\n",
    "fa_l"
   ]
  },
  {
   "cell_type": "code",
   "execution_count": 33,
   "metadata": {},
   "outputs": [],
   "source": [
    "fa_l.to_excel('factor2.xlsx')"
   ]
  },
  {
   "cell_type": "code",
   "execution_count": 34,
   "metadata": {},
   "outputs": [
    {
     "data": {
      "text/plain": [
       "array([4.36151411, 0.90573962, 0.81689758, 0.38446814, 0.26297314,\n",
       "       0.15896188, 0.10944554])"
      ]
     },
     "execution_count": 34,
     "metadata": {},
     "output_type": "execute_result"
    }
   ],
   "source": [
    "ev"
   ]
  },
  {
   "cell_type": "code",
   "execution_count": 35,
   "metadata": {},
   "outputs": [
    {
     "data": {
      "text/plain": [
       "array([ 4.20472518e+00,  7.62941860e-01,  5.93534504e-01,  1.62743594e-01,\n",
       "        8.08527231e-02,  1.73946425e-02, -2.61801085e-07])"
      ]
     },
     "execution_count": 35,
     "metadata": {},
     "output_type": "execute_result"
    }
   ],
   "source": [
    "v"
   ]
  },
  {
   "cell_type": "code",
   "execution_count": null,
   "metadata": {},
   "outputs": [],
   "source": []
  }
 ],
 "metadata": {
  "kernelspec": {
   "display_name": "Python 3",
   "language": "python",
   "name": "python3"
  },
  "language_info": {
   "codemirror_mode": {
    "name": "ipython",
    "version": 3
   },
   "file_extension": ".py",
   "mimetype": "text/x-python",
   "name": "python",
   "nbconvert_exporter": "python",
   "pygments_lexer": "ipython3",
   "version": "3.8.3"
  }
 },
 "nbformat": 4,
 "nbformat_minor": 4
}
